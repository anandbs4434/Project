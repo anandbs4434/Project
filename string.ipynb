{
 "cells": [
  {
   "cell_type": "code",
   "execution_count": 1,
   "metadata": {},
   "outputs": [
    {
     "data": {
      "text/plain": [
       "23"
      ]
     },
     "execution_count": 1,
     "metadata": {},
     "output_type": "execute_result"
    }
   ],
   "source": [
    "name ='Vijay Deenanath Chauhan'\n",
    "len(name)"
   ]
  },
  {
   "attachments": {},
   "cell_type": "markdown",
   "metadata": {},
   "source": [
    "'''' bdkcdjc\n",
    "cnddnckd\n",
    "dkc'''  multiple line code"
   ]
  },
  {
   "cell_type": "code",
   "execution_count": 5,
   "metadata": {},
   "outputs": [],
   "source": [
    "msg='''bdkcdjc\n",
    "cnddnckd\n",
    "dkc'''"
   ]
  },
  {
   "cell_type": "code",
   "execution_count": 6,
   "metadata": {},
   "outputs": [
    {
     "name": "stdout",
     "output_type": "stream",
     "text": [
      "b\n",
      "c\n"
     ]
    }
   ],
   "source": [
    "print(msg[0])\n",
    "print(msg[-1])"
   ]
  },
  {
   "attachments": {},
   "cell_type": "markdown",
   "metadata": {},
   "source": [
    "= slicing\n",
    "'x[startindex: endindex: step]'\n",
    "\n",
    "\n",
    "example\n",
    "- x[5: 15]  -> 5th to 14th index\n",
    "x[  : 15]   -> 0th to 9 th index\n",
    "x[ 5 : ]   -> 5th index to end of data"
   ]
  },
  {
   "cell_type": "code",
   "execution_count": 7,
   "metadata": {},
   "outputs": [
    {
     "data": {
      "text/plain": [
       "'Vijay'"
      ]
     },
     "execution_count": 7,
     "metadata": {},
     "output_type": "execute_result"
    }
   ],
   "source": [
    "name[ : 5]"
   ]
  },
  {
   "cell_type": "code",
   "execution_count": 8,
   "metadata": {},
   "outputs": [
    {
     "name": "stdout",
     "output_type": "stream",
     "text": [
      "Anand\n",
      "Singh\n"
     ]
    }
   ],
   "source": [
    "name = \"Anand Bahadur Singh\"\n",
    "fname= name[ :5]\n",
    "lname=name[-5:]\n",
    "print(fname)\n",
    "print(lname)"
   ]
  },
  {
   "cell_type": "code",
   "execution_count": 10,
   "metadata": {},
   "outputs": [
    {
     "data": {
      "text/plain": [
       "'AnBarih'"
      ]
     },
     "execution_count": 10,
     "metadata": {},
     "output_type": "execute_result"
    }
   ],
   "source": [
    "name[::3]"
   ]
  },
  {
   "cell_type": "code",
   "execution_count": 11,
   "metadata": {},
   "outputs": [
    {
     "data": {
      "text/plain": [
       "'hgniS rudahaB dnanA'"
      ]
     },
     "execution_count": 11,
     "metadata": {},
     "output_type": "execute_result"
    }
   ],
   "source": [
    "name[::-1]#reverse"
   ]
  },
  {
   "cell_type": "code",
   "execution_count": 12,
   "metadata": {},
   "outputs": [],
   "source": [
    "x= 'encyclopedia'\n"
   ]
  },
  {
   "cell_type": "code",
   "execution_count": 16,
   "metadata": {},
   "outputs": [
    {
     "data": {
      "text/plain": [
       "'ce'"
      ]
     },
     "execution_count": 16,
     "metadata": {},
     "output_type": "execute_result"
    }
   ],
   "source": [
    "x[2::-2]"
   ]
  },
  {
   "cell_type": "code",
   "execution_count": 15,
   "metadata": {},
   "outputs": [
    {
     "data": {
      "text/plain": [
       "'29031023.00'"
      ]
     },
     "execution_count": 15,
     "metadata": {},
     "output_type": "execute_result"
    }
   ],
   "source": [
    "'$29031023.00 USD'[1:-4]"
   ]
  },
  {
   "cell_type": "code",
   "execution_count": 17,
   "metadata": {},
   "outputs": [
    {
     "data": {
      "text/plain": [
       "'Singh'"
      ]
     },
     "execution_count": 17,
     "metadata": {},
     "output_type": "execute_result"
    }
   ],
   "source": [
    "name[::-1][:5][::-1]\n"
   ]
  },
  {
   "attachments": {},
   "cell_type": "markdown",
   "metadata": {},
   "source": [
    "###String methods\n",
    "formatting method\n",
    "    upper()\n",
    "    lower()\n",
    "    capitalize()\n",
    "    swapcase()\n",
    "    casefold()\n",
    "    title()\n",
    "    center()\n",
    "    ljust()\n",
    "    rjust()\n",
    "-validation method\n",
    "    isalnum()\n",
    "    isalpha()\n",
    "    islower()\n",
    "    isupper()\n",
    "    isnumeric()\n",
    "    istitle()\n",
    "    startswith()\n",
    "    endswith()\n",
    "search method\n",
    "    find()\n",
    "    index()\n",
    "utility method\n",
    "    replace()\n",
    "    split()\n",
    "    join()\n",
    "    strip()"
   ]
  },
  {
   "cell_type": "code",
   "execution_count": 13,
   "metadata": {},
   "outputs": [],
   "source": [
    "msg = 'Journey Before Destination'"
   ]
  },
  {
   "cell_type": "code",
   "execution_count": 14,
   "metadata": {},
   "outputs": [
    {
     "name": "stdout",
     "output_type": "stream",
     "text": [
      "JOURNEY BEFORE DESTINATION\n",
      "journey before destination\n",
      "Journey Before Destination\n",
      "Journey before destination\n",
      "jOURNEY bEFORE dESTINATION\n",
      "journey before destination\n"
     ]
    }
   ],
   "source": [
    "print(msg.upper())\n",
    "print(msg.lower())\n",
    "print(msg.title())\n",
    "print(msg.capitalize())\n",
    "print(msg.swapcase())\n",
    "print(msg.casefold())"
   ]
  }
 ],
 "metadata": {
  "kernelspec": {
   "display_name": "base",
   "language": "python",
   "name": "python3"
  },
  "language_info": {
   "codemirror_mode": {
    "name": "ipython",
    "version": 3
   },
   "file_extension": ".py",
   "mimetype": "text/x-python",
   "name": "python",
   "nbconvert_exporter": "python",
   "pygments_lexer": "ipython3",
   "version": "3.10.8"
  },
  "orig_nbformat": 4,
  "vscode": {
   "interpreter": {
    "hash": "7a44d7a840d8ee4042b4c376945b51b245118fa9f8bbce0623dc4c797346b303"
   }
  }
 },
 "nbformat": 4,
 "nbformat_minor": 2
}
