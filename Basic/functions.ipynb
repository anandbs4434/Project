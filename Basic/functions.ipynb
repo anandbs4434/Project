{
 "cells": [
  {
   "attachments": {},
   "cell_type": "markdown",
   "metadata": {},
   "source": [
    "Function- block of code which can be used multiple times\n",
    "\n"
   ]
  },
  {
   "cell_type": "code",
   "execution_count": 4,
   "metadata": {},
   "outputs": [
    {
     "name": "stdout",
     "output_type": "stream",
     "text": [
      "8\n"
     ]
    }
   ],
   "source": [
    "def area_cube():\n",
    "    side=int(input('enter side'))\n",
    "    ans = side **3\n",
    "    print(ans)\n",
    "area_cube()"
   ]
  },
  {
   "cell_type": "code",
   "execution_count": 5,
   "metadata": {},
   "outputs": [
    {
     "name": "stdout",
     "output_type": "stream",
     "text": [
      "216000\n"
     ]
    }
   ],
   "source": [
    "def area_cube(side):\n",
    "    ans = side **3\n",
    "    print(ans)\n",
    "\n",
    "x=int(input('enter side'))\n",
    "area_cube(x)"
   ]
  },
  {
   "cell_type": "code",
   "execution_count": 6,
   "metadata": {},
   "outputs": [
    {
     "name": "stdout",
     "output_type": "stream",
     "text": [
      "522\n"
     ]
    }
   ],
   "source": [
    "def area_cube(side):\n",
    "    ans = side **3\n",
    "    return(ans)\n",
    "\n",
    "x=int(input('enter side'))\n",
    "ar = area_cube(x)\n",
    "a=10+ar\n",
    "print(a)"
   ]
  },
  {
   "cell_type": "code",
   "execution_count": 9,
   "metadata": {},
   "outputs": [
    {
     "name": "stdout",
     "output_type": "stream",
     "text": [
      "13000.0\n"
     ]
    }
   ],
   "source": [
    "def si(p,r,t):\n",
    "    interest= p*r*t/100\n",
    "    return interest\n",
    "\n",
    "p=int(input('enter principal'))\n",
    "r=int(input('enter rate'))\n",
    "t=int(input('enter time'))\n",
    "\n",
    "amount = si(p,r,t)\n",
    "total=p+amount\n",
    "print(total)\n",
    "1000"
   ]
  }
 ],
 "metadata": {
  "kernelspec": {
   "display_name": "base",
   "language": "python",
   "name": "python3"
  },
  "language_info": {
   "codemirror_mode": {
    "name": "ipython",
    "version": 3
   },
   "file_extension": ".py",
   "mimetype": "text/x-python",
   "name": "python",
   "nbconvert_exporter": "python",
   "pygments_lexer": "ipython3",
   "version": "3.10.8"
  },
  "orig_nbformat": 4,
  "vscode": {
   "interpreter": {
    "hash": "7a44d7a840d8ee4042b4c376945b51b245118fa9f8bbce0623dc4c797346b303"
   }
  }
 },
 "nbformat": 4,
 "nbformat_minor": 2
}
