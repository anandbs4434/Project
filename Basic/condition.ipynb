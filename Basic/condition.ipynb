{
 "cells": [
  {
   "cell_type": "code",
   "execution_count": 3,
   "metadata": {},
   "outputs": [
    {
     "name": "stdout",
     "output_type": "stream",
     "text": [
      "Yes🎧\n"
     ]
    }
   ],
   "source": [
    "x=5\n",
    "if x>3:\n",
    "    print(\"Yes🎧\")\n",
    "else:\n",
    "    print(\"no☠️\")"
   ]
  },
  {
   "cell_type": "code",
   "execution_count": 3,
   "metadata": {},
   "outputs": [
    {
     "name": "stdout",
     "output_type": "stream",
     "text": [
      "To kya☠️☠️☠️\n"
     ]
    }
   ],
   "source": [
    "a=input(\"Enter  the number\")\n",
    "if a.isnumeric():\n",
    "    print (\"To kya☠️☠️☠️\")\n",
    "else:\n",
    "    print(\" AEevv🎧🎧🎧🎧\")"
   ]
  },
  {
   "cell_type": "markdown",
   "metadata": {},
   "source": []
  },
  {
   "cell_type": "code",
   "execution_count": 1,
   "metadata": {},
   "outputs": [
    {
     "name": "stdout",
     "output_type": "stream",
     "text": [
      "A\n"
     ]
    }
   ],
   "source": [
    "x = int(input(\"enter number\"))\n",
    "if x < 20:\n",
    "    print(\"E\")\n",
    "elif x>=20 and x<40:\n",
    "    print(\"C\")\n",
    "elif x>=40 and x<60:\n",
    "    print(\"B\")\n",
    "else:\n",
    "    print(\"A\")\n",
    "    "
   ]
  },
  {
   "attachments": {},
   "cell_type": "markdown",
   "metadata": {},
   "source": [
    "nested if"
   ]
  },
  {
   "cell_type": "code",
   "execution_count": 2,
   "metadata": {},
   "outputs": [
    {
     "name": "stdout",
     "output_type": "stream",
     "text": [
      "YEppppppppp\n"
     ]
    }
   ],
   "source": [
    "uname=input(\"Enter the name=\")\n",
    "email= input(\"Enter the email =\")\n",
    "pwd= input(\"Enter the password=\")\n",
    "pwd2=input(\"Confirm password=\")\n",
    "if len(uname)>= 4 and len(uname) <16 :\n",
    "    if '@' in email  and len(email) > 6:\n",
    "        if len(pwd) >=8 and len(pwd) <=20 and pwd!=uname :\n",
    "            if pwd ==pwd2:\n",
    "                print(\"YEppppppppp\")\n",
    "            else:\n",
    "                print(\"Password does not match\")"
   ]
  },
  {
   "attachments": {},
   "cell_type": "markdown",
   "metadata": {},
   "source": [
    "match case"
   ]
  },
  {
   "cell_type": "code",
   "execution_count": 6,
   "metadata": {},
   "outputs": [
    {
     "name": "stdout",
     "output_type": "stream",
     "text": [
      "Salary of manager = 65000.0\n"
     ]
    }
   ],
   "source": [
    "desig = input(\"Enter the designation\")\n",
    "match desig:\n",
    "    case 'manager':\n",
    "        sal = 50000 \n",
    "        newsal= sal + sal*.1 + sal*.2\n",
    "        print (\"Salary of manager =\",newsal)\n",
    "    case 'developer':\n",
    "        sal = 40000 + 40000*.2 + 40000*.2\n",
    "        print (\"Salary of developer =\",sal) \n",
    "    case 'tester':\n",
    "        sal= 30000 + 30000*.3 +30000*.2\n",
    "        print (\"Salary of manager =\",sal)\n",
    "    case _:\n",
    "        print (\"You are fired\")"
   ]
  }
 ],
 "metadata": {
  "kernelspec": {
   "display_name": "base",
   "language": "python",
   "name": "python3"
  },
  "language_info": {
   "codemirror_mode": {
    "name": "ipython",
    "version": 3
   },
   "file_extension": ".py",
   "mimetype": "text/x-python",
   "name": "python",
   "nbconvert_exporter": "python",
   "pygments_lexer": "ipython3",
   "version": "3.10.8"
  },
  "orig_nbformat": 4,
  "vscode": {
   "interpreter": {
    "hash": "7a44d7a840d8ee4042b4c376945b51b245118fa9f8bbce0623dc4c797346b303"
   }
  }
 },
 "nbformat": 4,
 "nbformat_minor": 2
}
