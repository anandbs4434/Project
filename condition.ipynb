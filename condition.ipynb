{
 "cells": [
  {
   "cell_type": "code",
   "execution_count": 3,
   "metadata": {},
   "outputs": [
    {
     "name": "stdout",
     "output_type": "stream",
     "text": [
      "Yes🎧\n"
     ]
    }
   ],
   "source": [
    "x=5\n",
    "if x>3:\n",
    "    print(\"Yes🎧\")\n",
    "else:\n",
    "    print(\"no☠️\")"
   ]
  },
  {
   "cell_type": "code",
   "execution_count": 3,
   "metadata": {},
   "outputs": [
    {
     "name": "stdout",
     "output_type": "stream",
     "text": [
      "To kya☠️☠️☠️\n"
     ]
    }
   ],
   "source": [
    "a=input(\"Enter  the number\")\n",
    "if a.isnumeric():\n",
    "    print (\"To kya☠️☠️☠️\")\n",
    "else:\n",
    "    print(\" AEevv🎧🎧🎧🎧\")"
   ]
  },
  {
   "cell_type": "markdown",
   "metadata": {},
   "source": []
  }
 ],
 "metadata": {
  "kernelspec": {
   "display_name": "base",
   "language": "python",
   "name": "python3"
  },
  "language_info": {
   "codemirror_mode": {
    "name": "ipython",
    "version": 3
   },
   "file_extension": ".py",
   "mimetype": "text/x-python",
   "name": "python",
   "nbconvert_exporter": "python",
   "pygments_lexer": "ipython3",
   "version": "3.10.8"
  },
  "orig_nbformat": 4,
  "vscode": {
   "interpreter": {
    "hash": "7a44d7a840d8ee4042b4c376945b51b245118fa9f8bbce0623dc4c797346b303"
   }
  }
 },
 "nbformat": 4,
 "nbformat_minor": 2
}
